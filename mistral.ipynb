{
 "cells": [
  {
   "cell_type": "code",
   "execution_count": 1,
   "metadata": {},
   "outputs": [],
   "source": [
    "from langchain_community.vectorstores import Chroma\n",
    "from langchain_community.chat_models import ChatOllama\n",
    "from langchain_community.embeddings import FastEmbedEmbeddings\n",
    "from langchain.schema.output_parser import StrOutputParser\n",
    "from langchain_community.document_loaders import PyPDFLoader\n",
    "from langchain.text_splitter import RecursiveCharacterTextSplitter\n",
    "from langchain.schema.runnable import RunnablePassthrough\n",
    "from langchain.prompts import PromptTemplate\n",
    "from langchain.vectorstores.utils import filter_complex_metadata"
   ]
  },
  {
   "cell_type": "code",
   "execution_count": 2,
   "metadata": {},
   "outputs": [],
   "source": [
    "from langchain.prompts.chat import (\n",
    "  ChatPromptTemplate,\n",
    "  SystemMessagePromptTemplate,\n",
    "  AIMessagePromptTemplate,\n",
    "  HumanMessagePromptTemplate,\n",
    ")"
   ]
  },
  {
   "cell_type": "code",
   "execution_count": 3,
   "metadata": {},
   "outputs": [],
   "source": [
    "import pandas as pd"
   ]
  },
  {
   "cell_type": "code",
   "execution_count": 4,
   "metadata": {},
   "outputs": [],
   "source": [
    "class MyChat:\n",
    "\n",
    "    def __init__(self,model:str,template:str):\n",
    "        self.vector_store = None\n",
    "        self.retriever = None\n",
    "        self.chain = None\n",
    "        self.model = ChatOllama(model=model)\n",
    "        self.text_splitter = RecursiveCharacterTextSplitter(chunk_size=1024, chunk_overlap=100)\n",
    "        '''self.prompt = PromptTemplate.from_template(\n",
    "            template\n",
    "        )'''\n",
    "\n",
    "    def ingest(self, pdf_file_path: str):\n",
    "        docs = PyPDFLoader(file_path=pdf_file_path).load()\n",
    "        chunks = self.text_splitter.split_documents(docs)\n",
    "        return filter_complex_metadata(chunks)\n",
    "\n",
    "    def make_vector_store(self, pdf_file_path:str):\n",
    "        chunks = self.ingest(pdf_file_path)\n",
    "        embedding_fn = FastEmbedEmbeddings()\n",
    "\n",
    "        self.vector_store = Chroma.from_documents(documents=chunks, embedding=embedding_fn)\n",
    "\n",
    "    def make_chain(self,template):\n",
    "        self.retriever = self.vector_store.as_retriever(\n",
    "            search_type=\"similarity_score_threshold\",\n",
    "            search_kwargs={\n",
    "                \"k\": 3,\n",
    "                \"score_threshold\": 0.5,\n",
    "            },\n",
    "        )\n",
    "\n",
    "        sys_message_prompt= SystemMessagePromptTemplate.from_template(template)\n",
    "        example_human_history = HumanMessagePromptTemplate.from_template(\"Olá!\")\n",
    "        example_ai_history = AIMessagePromptTemplate.from_template(\"Oi, como você está hoje?\")\n",
    "\n",
    "        human_template=\"{input}\"\n",
    "        human_message_prompt = HumanMessagePromptTemplate.from_template(human_template)\n",
    "\n",
    "        chat_prompt = ChatPromptTemplate.from_messages([sys_message_prompt, example_human_history, example_ai_history, human_message_prompt])\n",
    "\n",
    "        self.chain = chat_prompt | self.model\n",
    "\n",
    "        '''self.chain = ({\"context\": self.retriever, \"emendas\",\"input\": RunnablePassthrough()}\n",
    "                      | self.prompt\n",
    "                      | self.model\n",
    "                      | StrOutputParser())'''\n",
    "\n",
    "    def ask(self, query: str,emendas:str):\n",
    "        return self.chain.invoke({\"context\": self.retriever,\"emendas\":emendas,\"input\":query})\n",
    "\n",
    "    def clear(self):\n",
    "        self.vector_store = None\n",
    "        self.retriever = None\n",
    "        self.chain = None"
   ]
  },
  {
   "cell_type": "code",
   "execution_count": 5,
   "metadata": {},
   "outputs": [],
   "source": [
    "template=\"\"\"Tarefa: Agrupamento Semântico de Emendas Parlamentares\n",
    "Você foi designado para realizar um agrupamento semântico das emendas parlamentares. Cada emenda é identificada por um texto descritivo.\n",
    "Todas as emendas são referentes ao mesmo projeto de lei, PL.\n",
    "\n",
    "Texto do PL:\n",
    "<context>\n",
    "{context}\n",
    "</context>\n",
    "\n",
    "Detalhes da Tarefa:\n",
    "Você receberá um conjunto de emendas parlamentares, cada uma representada por um texto descritivo. As emendas podem abordar uma variedade de tópicos.\n",
    "Seu modelo deve atribuir cada emenda a um grupo semântico com base em seus tópicos principais.\n",
    "Certifique-se de que cada emenda seja atribuída a um único grupo e que todas as emendas sejam atribuídas a um grupo.\n",
    "\n",
    "Exemplo de Emenda:\n",
    "AQUI SE INICIA A EMENDA ID 000001 TEXTO\n",
    "\n",
    "Texto das Emendas:\n",
    "{emendas}\n",
    "\n",
    "Question: {input}\"\"\""
   ]
  },
  {
   "cell_type": "code",
   "execution_count": 13,
   "metadata": {},
   "outputs": [],
   "source": [
    "query=f\"\"\"Realize o agrupamento semântico das emendas parlamentares fornecidas, atribuindo cada emenda a um grupo com base em seus tópicos principais.\"\"\""
   ]
  },
  {
   "cell_type": "code",
   "execution_count": 7,
   "metadata": {},
   "outputs": [],
   "source": [
    "emendas_df = pd.read_csv(\"emendas-786-2020.csv\")"
   ]
  },
  {
   "cell_type": "code",
   "execution_count": 8,
   "metadata": {},
   "outputs": [
    {
     "data": {
      "text/plain": [
       "'AQUI SE INICIA A EMENDA ID 30870016:\\nSuprima-se o texto atual.\\nAQUI SE INICIA A EMENDA ID 32280017:\\nSuprima-se o texto atual.\\nAQUI SE INICIA A EMENDA ID 36110022:\\nSuprima-se o texto atual.\\nAQUI SE INICIA A EMENDA ID 39160035:\\nSuprima-se o texto atual.\\nAQUI SE INICIA A EMENDA ID 39540014:\\nSuprima-se o texto atual.\\nAQUI SE INICIA A EMENDA ID 39840011:\\nSuprima-se o texto atual.\\nAQUI SE INICIA A EMENDA ID 40700034:\\nSuprima-se o texto atual.\\nAQUI SE INICIA A EMENDA ID 41300028:\\nSuprima-se o texto atual.\\n'"
      ]
     },
     "execution_count": 8,
     "metadata": {},
     "output_type": "execute_result"
    }
   ],
   "source": [
    "inteiro_teor_todas_emendas = mensagem = \"\".join([f\"AQUI SE INICIA A EMENDA ID {numero_emenda}:\\n{text_proposto_emenda}\\n\" for numero_emenda, text_proposto_emenda in zip(emendas_df['NUMEROEMENDA'], emendas_df['TEXTOPROPOSTOEMENDA'])])\n",
    "inteiro_teor_todas_emendas"
   ]
  },
  {
   "cell_type": "code",
   "execution_count": 9,
   "metadata": {},
   "outputs": [],
   "source": [
    "emendas = inteiro_teor_todas_emendas"
   ]
  },
  {
   "cell_type": "code",
   "execution_count": 10,
   "metadata": {},
   "outputs": [
    {
     "data": {
      "text/plain": [
       "88"
      ]
     },
     "execution_count": 10,
     "metadata": {},
     "output_type": "execute_result"
    }
   ],
   "source": [
    "estimativa_tokens = len(inteiro_teor_todas_emendas.split())\n",
    "estimativa_tokens"
   ]
  },
  {
   "cell_type": "markdown",
   "metadata": {},
   "source": [
    "### PL-786-2020"
   ]
  },
  {
   "cell_type": "code",
   "execution_count": 11,
   "metadata": {},
   "outputs": [
    {
     "name": "stderr",
     "output_type": "stream",
     "text": [
      "/home/pedrest/Documentos/TCC/.venv/lib/python3.10/site-packages/tqdm/auto.py:21: TqdmWarning: IProgress not found. Please update jupyter and ipywidgets. See https://ipywidgets.readthedocs.io/en/stable/user_install.html\n",
      "  from .autonotebook import tqdm as notebook_tqdm\n",
      "Fetching 9 files: 100%|██████████| 9/9 [00:00<00:00, 19498.31it/s]\n"
     ]
    }
   ],
   "source": [
    "chat = MyChat(\"mistral\",template)\n",
    "\n",
    "chat.make_vector_store(\"PL-786-2020.pdf\")\n",
    "\n",
    "chat.make_chain(template)"
   ]
  },
  {
   "cell_type": "code",
   "execution_count": 14,
   "metadata": {},
   "outputs": [
    {
     "data": {
      "text/plain": [
       "AIMessage(content=' Based on the text descriptions provided, it seems that all these emendas share a common theme of proposing to \"suprima-se o texto atual.\" Therefore, I would suggest creating a single semantic group for all these emendas as they all focus on removing or deleting certain existing texts.\\n\\nSo, the resulting groups could be something like:\\n1. Group 1 (Main Topic: Removal of Texts)\\n   - Emenda ID 30870016\\n   - Emenda ID 32280017\\n   - ...\\n   - Emenda ID 41300028\\n\\nThis would result in a single semantic group for all the given emendas as they all propose to modify the text by removing or deleting existing texts.', response_metadata={'model': 'mistral', 'created_at': '2024-05-02T11:35:41.498986225Z', 'message': {'role': 'assistant', 'content': ''}, 'done': True, 'total_duration': 345534563099, 'load_duration': 156474619843, 'prompt_eval_count': 749, 'prompt_eval_duration': 129099999000, 'eval_count': 178, 'eval_duration': 59078086000}, id='run-7473c2ff-9f55-4fd0-8421-b5875a6900ec-0')"
      ]
     },
     "execution_count": 14,
     "metadata": {},
     "output_type": "execute_result"
    }
   ],
   "source": [
    "response = chat.ask(query,emendas)\n",
    "print(response)"
   ]
  },
  {
   "cell_type": "markdown",
   "metadata": {},
   "source": [
    "AIMessage(content='\n",
    "\n",
    "Based on the text descriptions provided, it seems that all these emendas share a common theme of proposing to \"suprima-se o texto atual.\" Therefore, I would suggest creating a single semantic group for all these emendas as they all focus on removing or deleting certain existing texts.\\n\\nSo, the resulting groups could be something like:\n",
    "Group 1 (Main Topic: Removal of Texts)\n",
    "   - Emenda ID 30870016   \n",
    "   - Emenda ID 32280017   \n",
    "   - ...   \n",
    "   - Emenda ID 41300028\n",
    "   \n",
    "   This would result in a single semantic group for all the given emendas as they all propose to modify the text by removing or deleting existing texts.'\n",
    "   \n",
    "   , response_metadata={'model': 'mistral', 'created_at': '2024-05-02T11:35:41.498986225Z', 'message': {'role': 'assistant', 'content': ''}, 'done': True, 'total_duration': 345534563099, 'load_duration': 156474619843, 'prompt_eval_count': 749, 'prompt_eval_duration': 129099999000, 'eval_count': 178, 'eval_duration': 59078086000}, id='run-7473c2ff-9f55-4fd0-8421-b5875a6900ec-0')"
   ]
  },
  {
   "cell_type": "markdown",
   "metadata": {},
   "source": [
    "### PL-20-2020"
   ]
  },
  {
   "cell_type": "code",
   "execution_count": 25,
   "metadata": {},
   "outputs": [],
   "source": [
    "emendas_df = pd.read_csv(\"emendas-20-2020.csv\")"
   ]
  },
  {
   "cell_type": "code",
   "execution_count": 26,
   "metadata": {},
   "outputs": [],
   "source": [
    "inteiro_teor_todas_emendas = mensagem = \"\".join([f\"AQUI SE INICIA A EMENDA ID {numero_emenda}:\\n{text_proposto_emenda}\\n\" for numero_emenda, text_proposto_emenda in zip(emendas_df['NUMEROEMENDA'], emendas_df['TEXTOPROPOSTOEMENDA'])])\n",
    "emendas = inteiro_teor_todas_emendas"
   ]
  },
  {
   "cell_type": "code",
   "execution_count": 27,
   "metadata": {},
   "outputs": [
    {
     "data": {
      "text/plain": [
       "4160"
      ]
     },
     "execution_count": 27,
     "metadata": {},
     "output_type": "execute_result"
    }
   ],
   "source": [
    "estimativa_tokens = len(inteiro_teor_todas_emendas.split())\n",
    "estimativa_tokens"
   ]
  },
  {
   "cell_type": "code",
   "execution_count": 28,
   "metadata": {},
   "outputs": [
    {
     "name": "stderr",
     "output_type": "stream",
     "text": [
      "Fetching 9 files: 100%|██████████| 9/9 [00:00<00:00, 7446.98it/s]\n"
     ]
    }
   ],
   "source": [
    "chat = MyChat(\"mistral\",template)\n",
    "\n",
    "chat.make_vector_store(\"PL-20-2020.pdf\")\n",
    "\n",
    "chat.make_chain(template)"
   ]
  },
  {
   "cell_type": "code",
   "execution_count": 29,
   "metadata": {},
   "outputs": [
    {
     "name": "stdout",
     "output_type": "stream",
     "text": [
      "content=' Group 1: Priorities and Metas of Federal Public Administration in 2020\\n\\nEmenda ID 50359996: No change (Establishes the general provisions for the 2020 Federal Budget Law)\\n\\nEmenda ID 50360001, 50360004, 50360009, 71250006, and 71250012: Include specific areas of focus for the federal public administration in 2020, such as education (PNE), equality and violence against women, social housing programs, and fulfilling the goals outlined in the Plano Plurianual 2020-2023.\\n\\nEmenda ID 50360003: Modifies the primary goal of the federal budget to include the costs related to investments and payments from My House, My Life program and Minha Vida Minha Casa social housing program.\\n\\nEmenda ID 60000003: Includes education goals in the priorities for the federal public administration in 2012.\\n\\nGroup 2: Budget Amounts and Reductions\\n\\nEmenda ID 50359998, 50360007, 60000030, and 71080009: No change (Maintain the current budget amounts or priorities)\\n\\nEmenda ID 60000031: Modifies the primary goal of the federal budget to include goals from various areas such as education, equality and violence against women, social housing programs, and goals outlined in the Plano Plurianual 2020-2023.\\n\\nEmenda ID 60000008: Reduces the primary goal of the federal budget to account for the costs related to investments in social housing programs.\\n\\nGroup 3: Specific Programs and Policies\\n\\nEmenda ID 50360011: Includes actions against violence against women as a priority for the federal public administration in 2020.\\n\\nEmenda ID 71250006: Establishes priorities and goals for the federal public administration related to education, security, and social programs (Segurança Pública, Educação, e Programas Sociais) as outlined in the Plano Plurianual 2020-2023.' response_metadata={'model': 'mistral', 'created_at': '2024-05-02T12:34:10.68895688Z', 'message': {'role': 'assistant', 'content': ''}, 'done': True, 'total_duration': 738894884632, 'load_duration': 15983077884, 'prompt_eval_count': 1566, 'prompt_eval_duration': 484632260000, 'eval_count': 561, 'eval_duration': 236576432000} id='run-016b2de5-ec29-460d-8d2c-2e6968390faf-0'\n"
     ]
    }
   ],
   "source": [
    "response = chat.ask(query,emendas)\n",
    "print(response)"
   ]
  },
  {
   "cell_type": "markdown",
   "metadata": {},
   "source": [
    "content=' \n",
    "\n",
    "Group 1: Priorities and Metas of Federal Public Administration in 2020\n",
    "\n",
    "    - Emenda ID 50359996: No change (Establishes the general provisions for the 2020 Federal Budget Law)\n",
    "    - Emenda ID 50360001, 50360004, 50360009, 71250006, and 71250012: Include specific areas of focus for the federal public administration in 2020, such as education (PNE), equality and violence against women, social housing programs, and fulfilling the goals outlined in the Plano Plurianual 2020-2023.\n",
    "    - Emenda ID 50360003: Modifies the primary goal of the federal budget to include the costs related to investments and payments from My House, My Life program and Minha Vida Minha Casa social housing program.\n",
    "    - Emenda ID 60000003: Includes education goals in the priorities for the federal public administration in 2012.\n",
    "\n",
    "Group 2: Budget Amounts and Reductions\n",
    "\n",
    "    - Emenda ID 50359998, 50360007, 60000030, and 71080009: No change (Maintain the current budget amounts or priorities)\n",
    "    - Emenda ID 60000031: Modifies the primary goal of the federal budget to include goals from various areas such as education, equality and violence against women, social housing programs, and goals outlined in the Plano Plurianual 2020-2023.\n",
    "    - Emenda ID 60000008: Reduces the primary goal of the federal budget to account for the costs related to investments in social housing programs.\n",
    "\n",
    "Group 3: Specific Programs and Policies\n",
    "\n",
    "    - Emenda ID 50360011: Includes actions against violence against women as a priority for the federal public administration in 2020.\n",
    "    - Emenda ID 71250006: Establishes priorities and goals for the federal public administration related to education, security, and social programs (Segurança Pública, Educação, e Programas Sociais) as outlined in the Plano Plurianual 2020-2023.\n",
    "\n",
    "' response_metadata={'model': 'mistral', 'created_at': '2024-05-02T12:34:10.68895688Z', 'message': {'role': 'assistant', 'content': ''}, 'done': True, 'total_duration': 738894884632, 'load_duration': 15983077884, 'prompt_eval_count': 1566, 'prompt_eval_duration': 484632260000, 'eval_count': 561, 'eval_duration': 236576432000} id='run-016b2de5-ec29-460d-8d2c-2e6968390faf-0'\n"
   ]
  }
 ],
 "metadata": {
  "kernelspec": {
   "display_name": ".venv",
   "language": "python",
   "name": "python3"
  },
  "language_info": {
   "codemirror_mode": {
    "name": "ipython",
    "version": 3
   },
   "file_extension": ".py",
   "mimetype": "text/x-python",
   "name": "python",
   "nbconvert_exporter": "python",
   "pygments_lexer": "ipython3",
   "version": "3.10.12"
  }
 },
 "nbformat": 4,
 "nbformat_minor": 2
}
