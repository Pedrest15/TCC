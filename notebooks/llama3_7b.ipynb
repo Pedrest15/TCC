{
 "cells": [
  {
   "cell_type": "code",
   "execution_count": 13,
   "metadata": {},
   "outputs": [],
   "source": [
    "from langchain_community.vectorstores import Chroma\n",
    "from langchain_community.chat_models import ChatOllama\n",
    "from langchain_community.embeddings import FastEmbedEmbeddings\n",
    "from langchain.schema.output_parser import StrOutputParser\n",
    "from langchain_community.document_loaders import PyPDFLoader\n",
    "from langchain.text_splitter import RecursiveCharacterTextSplitter\n",
    "from langchain.schema.runnable import RunnablePassthrough\n",
    "from langchain.prompts import PromptTemplate\n",
    "from langchain.vectorstores.utils import filter_complex_metadata"
   ]
  },
  {
   "cell_type": "code",
   "execution_count": 14,
   "metadata": {},
   "outputs": [],
   "source": [
    "from langchain.prompts.chat import (\n",
    "  ChatPromptTemplate,\n",
    "  SystemMessagePromptTemplate,\n",
    "  AIMessagePromptTemplate,\n",
    "  HumanMessagePromptTemplate,\n",
    ")"
   ]
  },
  {
   "cell_type": "code",
   "execution_count": 15,
   "metadata": {},
   "outputs": [],
   "source": [
    "import pandas as pd"
   ]
  },
  {
   "cell_type": "code",
   "execution_count": 16,
   "metadata": {},
   "outputs": [],
   "source": [
    "class MyChat:\n",
    "\n",
    "    def __init__(self,model:str,template:str):\n",
    "        self.vector_store = None\n",
    "        self.retriever = None\n",
    "        self.chain = None\n",
    "        self.model = ChatOllama(model=model)\n",
    "        self.text_splitter = RecursiveCharacterTextSplitter(chunk_size=1024, chunk_overlap=100)\n",
    "\n",
    "    def ingest(self, pdf_file_path: str):\n",
    "        docs = PyPDFLoader(file_path=pdf_file_path).load()\n",
    "        chunks = self.text_splitter.split_documents(docs)\n",
    "        return filter_complex_metadata(chunks)\n",
    "\n",
    "    def make_vector_store(self, pdf_file_path:str):\n",
    "        chunks = self.ingest(pdf_file_path)\n",
    "        embedding_fn = FastEmbedEmbeddings()\n",
    "\n",
    "        self.vector_store = Chroma.from_documents(documents=chunks, embedding=embedding_fn)\n",
    "\n",
    "    def make_chain(self,template):\n",
    "        self.retriever = self.vector_store.as_retriever(\n",
    "            search_type=\"similarity_score_threshold\",\n",
    "            search_kwargs={\n",
    "                \"k\": 3,\n",
    "                \"score_threshold\": 0.5,\n",
    "            },\n",
    "        )\n",
    "\n",
    "        sys_message_prompt= SystemMessagePromptTemplate.from_template(template)\n",
    "        example_human_history = HumanMessagePromptTemplate.from_template(\"Olá!\")\n",
    "        example_ai_history = AIMessagePromptTemplate.from_template(\"Oi, como você está hoje?\")\n",
    "\n",
    "        human_template=\"{input}\"\n",
    "        human_message_prompt = HumanMessagePromptTemplate.from_template(human_template)\n",
    "\n",
    "        chat_prompt = ChatPromptTemplate.from_messages([sys_message_prompt, example_human_history, example_ai_history, human_message_prompt])\n",
    "\n",
    "        self.chain = chat_prompt | self.model\n",
    "\n",
    "    def ask(self, query: str,emendas:str):\n",
    "        return self.chain.invoke({\"context\": self.retriever,\"emendas\":emendas,\"input\":query})\n",
    "\n",
    "    def clear(self):\n",
    "        self.vector_store = None\n",
    "        self.retriever = None\n",
    "        self.chain = None"
   ]
  },
  {
   "cell_type": "code",
   "execution_count": 17,
   "metadata": {},
   "outputs": [],
   "source": [
    "template=\"\"\"Tarefa: Agrupamento Semântico de Emendas Parlamentares. Responda em português.\n",
    "Você foi designado para realizar um agrupamento semântico das emendas parlamentares. Cada emenda é identificada por um texto descritivo.\n",
    "Todas as emendas são referentes ao mesmo projeto de lei, PL.\n",
    "\n",
    "Texto do PL:\n",
    "<context>\n",
    "{context}\n",
    "</context>\n",
    "\n",
    "Detalhes da Tarefa:\n",
    "Você receberá um conjunto de emendas parlamentares, cada uma representada por um texto descritivo. As emendas podem abordar uma variedade de tópicos.\n",
    "Seu modelo deve atribuir cada emenda a um grupo semântico com base em seus tópicos principais.\n",
    "Certifique-se de que cada emenda seja atribuída a um único grupo e que todas as emendas sejam atribuídas a um grupo.\n",
    "\n",
    "Exemplo de Emenda:\n",
    "AQUI SE INICIA A EMENDA ID 000001 TEXTO\n",
    "\n",
    "Texto das Emendas:\n",
    "{emendas}\n",
    "\n",
    "Question: {input}\"\"\""
   ]
  },
  {
   "cell_type": "code",
   "execution_count": 18,
   "metadata": {},
   "outputs": [],
   "source": [
    "query=f\"\"\"Realize o agrupamento semântico das emendas parlamentares fornecidas, atribuindo cada emenda a um grupo com base em seus tópicos principais.\"\"\""
   ]
  },
  {
   "cell_type": "code",
   "execution_count": 19,
   "metadata": {},
   "outputs": [
    {
     "data": {
      "text/plain": [
       "(8, 21)"
      ]
     },
     "execution_count": 19,
     "metadata": {},
     "output_type": "execute_result"
    }
   ],
   "source": [
    "emendas_df = pd.read_csv(\"emendas-786-2020.csv\")\n",
    "emendas_df.shape"
   ]
  },
  {
   "cell_type": "code",
   "execution_count": 20,
   "metadata": {},
   "outputs": [
    {
     "data": {
      "text/plain": [
       "'AQUI SE INICIA A EMENDA ID 30870016:\\nSuprima-se o texto atual.\\nAQUI SE INICIA A EMENDA ID 32280017:\\nSuprima-se o texto atual.\\nAQUI SE INICIA A EMENDA ID 36110022:\\nSuprima-se o texto atual.\\nAQUI SE INICIA A EMENDA ID 39160035:\\nSuprima-se o texto atual.\\nAQUI SE INICIA A EMENDA ID 39540014:\\nSuprima-se o texto atual.\\nAQUI SE INICIA A EMENDA ID 39840011:\\nSuprima-se o texto atual.\\nAQUI SE INICIA A EMENDA ID 40700034:\\nSuprima-se o texto atual.\\nAQUI SE INICIA A EMENDA ID 41300028:\\nSuprima-se o texto atual.\\n'"
      ]
     },
     "execution_count": 20,
     "metadata": {},
     "output_type": "execute_result"
    }
   ],
   "source": [
    "inteiro_teor_todas_emendas = mensagem = \"\".join([f\"AQUI SE INICIA A EMENDA ID {numero_emenda}:\\n{text_proposto_emenda}\\n\" for numero_emenda, text_proposto_emenda in zip(emendas_df['NUMEROEMENDA'], emendas_df['TEXTOPROPOSTOEMENDA'])])\n",
    "inteiro_teor_todas_emendas"
   ]
  },
  {
   "cell_type": "code",
   "execution_count": 21,
   "metadata": {},
   "outputs": [],
   "source": [
    "emendas = inteiro_teor_todas_emendas"
   ]
  },
  {
   "cell_type": "code",
   "execution_count": 24,
   "metadata": {},
   "outputs": [
    {
     "data": {
      "text/plain": [
       "88"
      ]
     },
     "execution_count": 24,
     "metadata": {},
     "output_type": "execute_result"
    }
   ],
   "source": [
    "estimativa_tokens = len(inteiro_teor_todas_emendas.split())\n",
    "estimativa_tokens"
   ]
  },
  {
   "cell_type": "markdown",
   "metadata": {},
   "source": [
    "### PL-786-2020"
   ]
  },
  {
   "cell_type": "code",
   "execution_count": 25,
   "metadata": {},
   "outputs": [
    {
     "name": "stderr",
     "output_type": "stream",
     "text": [
      "Fetching 9 files: 100%|██████████| 9/9 [00:00<00:00, 57808.17it/s]\n"
     ]
    }
   ],
   "source": [
    "chat = MyChat(\"llama3\",template)\n",
    "\n",
    "chat.make_vector_store(\"PL-786-2020.pdf\")\n",
    "\n",
    "chat.make_chain(template)"
   ]
  },
  {
   "cell_type": "code",
   "execution_count": 26,
   "metadata": {},
   "outputs": [
    {
     "name": "stdout",
     "output_type": "stream",
     "text": [
      "Vou realizar o agrupamento semântico das emendas parlamentares!\n",
      "\n",
      "Aparentemente, todas as emendas referem-se à supressão de texto atual. Com isso, vou atribuir cada emenda a um único grupo com base nesse tópico principal.\n",
      "\n",
      "**Grupo 1: Supressão de texto atual**\n",
      "\n",
      "* Emenda ID 3087: \"Suprima-se o texto atual.\"\n",
      "* Emenda ID 3228: \"Suprima-se o texto atual.\"\n",
      "* Emenda ID 3611: \"Suprima-se o texto atual.\"\n",
      "* Emenda ID 3916: \"Suprima-se o texto atual.\"\n",
      "* Emenda ID 3954: \"Suprima-se o texto atual.\"\n",
      "* Emenda ID 3984: \"Suprima-se o texto atual.\"\n",
      "* Emenda ID 4070: \"Suprima-se o texto atual.\"\n",
      "* Emenda ID 4130: \"Suprima-se o texto atual.\"\n",
      "\n",
      "Espero que isso seja o agrupamento semântico correto!\n"
     ]
    }
   ],
   "source": [
    "response = chat.ask(query,emendas)\n",
    "print(response.content)"
   ]
  },
  {
   "cell_type": "markdown",
   "metadata": {},
   "source": [
    "### PL-20-2020"
   ]
  },
  {
   "cell_type": "code",
   "execution_count": 21,
   "metadata": {},
   "outputs": [
    {
     "data": {
      "text/plain": [
       "(77, 21)"
      ]
     },
     "execution_count": 21,
     "metadata": {},
     "output_type": "execute_result"
    }
   ],
   "source": [
    "emendas_df = pd.read_csv(\"emendas-20-2020.csv\")\n",
    "emendas_df.shape"
   ]
  },
  {
   "cell_type": "code",
   "execution_count": 22,
   "metadata": {},
   "outputs": [],
   "source": [
    "inteiro_teor_todas_emendas = \"\".join([f\"AQUI SE INICIA A EMENDA ID {numero_emenda}:\\n{text_proposto_emenda}\\n\" for numero_emenda, text_proposto_emenda in zip(emendas_df['NUMEROEMENDA'], emendas_df['TEXTOPROPOSTOEMENDA'])])\n",
    "emendas = inteiro_teor_todas_emendas"
   ]
  },
  {
   "cell_type": "code",
   "execution_count": 23,
   "metadata": {},
   "outputs": [
    {
     "data": {
      "text/plain": [
       "4160"
      ]
     },
     "execution_count": 23,
     "metadata": {},
     "output_type": "execute_result"
    }
   ],
   "source": [
    "estimativa_tokens = len(inteiro_teor_todas_emendas.split())\n",
    "estimativa_tokens"
   ]
  },
  {
   "cell_type": "code",
   "execution_count": 24,
   "metadata": {},
   "outputs": [
    {
     "name": "stderr",
     "output_type": "stream",
     "text": [
      "/home/pedrest/Documentos/TCC/.venv/lib/python3.10/site-packages/tqdm/auto.py:21: TqdmWarning: IProgress not found. Please update jupyter and ipywidgets. See https://ipywidgets.readthedocs.io/en/stable/user_install.html\n",
      "  from .autonotebook import tqdm as notebook_tqdm\n",
      ".gitattributes: 100%|██████████| 1.52k/1.52k [00:00<00:00, 3.55MB/s]\n",
      "config.json: 100%|██████████| 706/706 [00:00<00:00, 1.81MB/s]t]\n",
      "ort_config.json: 100%|██████████| 1.27k/1.27k [00:00<00:00, 7.30MB/s]\n",
      "tokenizer_config.json: 100%|██████████| 1.24k/1.24k [00:00<00:00, 6.50MB/s]\n",
      "special_tokens_map.json: 100%|██████████| 695/695 [00:00<00:00, 2.60MB/s]\n",
      "\n",
      "README.md: 100%|██████████| 28.0/28.0 [00:00<00:00, 33.9kB/s]\n",
      "Fetching 9 files:  22%|██▏       | 2/9 [00:01<00:04,  1.47it/s]\n",
      "tokenizer.json: 100%|██████████| 711k/711k [00:00<00:00, 1.40MB/s]\n",
      "vocab.txt: 100%|██████████| 232k/232k [00:00<00:00, 747kB/s]\n",
      "\n",
      "\u001b[A\n",
      "\u001b[A\n",
      "\u001b[A\n",
      "\u001b[A\n",
      "\u001b[A\n",
      "\u001b[A\n",
      "model_optimized.onnx: 100%|██████████| 66.5M/66.5M [00:07<00:00, 8.65MB/s]\n",
      "Fetching 9 files: 100%|██████████| 9/9 [00:09<00:00,  1.02s/it]\n"
     ]
    }
   ],
   "source": [
    "chat = MyChat(\"llama3\",template)\n",
    "\n",
    "chat.make_vector_store(\"PL-20-2020.pdf\")\n",
    "\n",
    "chat.make_chain(template)"
   ]
  },
  {
   "cell_type": "code",
   "execution_count": 25,
   "metadata": {},
   "outputs": [
    {
     "name": "stdout",
     "output_type": "stream",
     "text": [
      "content=' Based on the given emendas, I have grouped them into the following categories based on their primary topics:\\n\\n1. Budget and Priorities (overall)\\n   - Emenda 50360002, 50360003, 50370011, 60000003, 60000030: These emendas mention the overall budget and priorities for the federal administration in 2020.\\n   - Emenda 71250006, 71250012: These emendas specify some of the priorities, such as education, public security, and the enforcement of laws against violence against women.\\n\\n2. Education (PNE)\\n   - Emenda 30090014: This emenda refers specifically to the National Education Plan (PNE).\\n   - Emenda 60000031, 71080009: These emendas mention the importance of fulfilling the goals set in the National Education Plan.\\n\\n3. Enforcement of laws against violence against women\\n   - Emenda 50360004, 50360009: These emendas include actions related to the enforcement of laws against violence against women as a priority for the federal administration in 2020.\\n\\n4. Miscellaneous\\n   - Emenda 40170008: This emenda mentions a specific law (the Federal Law on the National System of Public Transport).\\n   - Emenda 60000003 (§1): This emenda clarifies that certain expenditures count towards the overall budget limit.' response_metadata={'model': 'mistral', 'created_at': '2024-06-11T11:47:45.717618513Z', 'message': {'role': 'assistant', 'content': ''}, 'done': True, 'total_duration': 482943387475, 'load_duration': 66258219157, 'prompt_eval_count': 1567, 'prompt_eval_duration': 287812480000, 'eval_count': 392, 'eval_duration': 128391711000} id='run-c1acce40-7e33-440c-96f7-464d2f82e6d1-0'\n"
     ]
    }
   ],
   "source": [
    "response = chat.ask(query,emendas)\n",
    "print(response)"
   ]
  }
 ],
 "metadata": {
  "kernelspec": {
   "display_name": ".venv",
   "language": "python",
   "name": "python3"
  },
  "language_info": {
   "codemirror_mode": {
    "name": "ipython",
    "version": 3
   },
   "file_extension": ".py",
   "mimetype": "text/x-python",
   "name": "python",
   "nbconvert_exporter": "python",
   "pygments_lexer": "ipython3",
   "version": "3.10.12"
  }
 },
 "nbformat": 4,
 "nbformat_minor": 2
}
